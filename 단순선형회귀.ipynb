{
  "nbformat": 4,
  "nbformat_minor": 0,
  "metadata": {
    "colab": {
      "provenance": [],
      "authorship_tag": "ABX9TyNs7pSpb10aQ+XoLj9E7RBh",
      "include_colab_link": true
    },
    "kernelspec": {
      "name": "python3",
      "display_name": "Python 3"
    },
    "language_info": {
      "name": "python"
    }
  },
  "cells": [
    {
      "cell_type": "markdown",
      "metadata": {
        "id": "view-in-github",
        "colab_type": "text"
      },
      "source": [
        "<a href=\"https://colab.research.google.com/github/Jake0925/Pytorch/blob/main/%EB%8B%A8%EC%88%9C%EC%84%A0%ED%98%95%ED%9A%8C%EA%B7%80.ipynb\" target=\"_parent\"><img src=\"https://colab.research.google.com/assets/colab-badge.svg\" alt=\"Open In Colab\"/></a>"
      ]
    },
    {
      "cell_type": "markdown",
      "source": [
        "https://wikidocs.net/55409"
      ],
      "metadata": {
        "id": "CHd82Lbrdu51"
      }
    },
    {
      "cell_type": "markdown",
      "source": [
        "# 단순 선형 회귀 구현하기"
      ],
      "metadata": {
        "id": "Hu0LVmjAdqVr"
      }
    },
    {
      "cell_type": "code",
      "execution_count": 2,
      "metadata": {
        "id": "Dz12OuBddMXr"
      },
      "outputs": [],
      "source": [
        "import torch\n",
        "import torch.nn as nn\n",
        "import torch.nn.functional as F"
      ]
    },
    {
      "cell_type": "code",
      "source": [
        "torch.manual_seed(1)"
      ],
      "metadata": {
        "colab": {
          "base_uri": "https://localhost:8080/"
        },
        "id": "VUvilv5MdQe3",
        "outputId": "bf88463f-3a3c-49e9-f62a-19fbeb2a2819"
      },
      "execution_count": 3,
      "outputs": [
        {
          "output_type": "execute_result",
          "data": {
            "text/plain": [
              "<torch._C.Generator at 0x790d7c349f50>"
            ]
          },
          "metadata": {},
          "execution_count": 3
        }
      ]
    },
    {
      "cell_type": "markdown",
      "source": [
        "아래 데이터는 y = 2x를 가정된 상태에서 만들어진 데이터로 우리는 이미 정답이 W=2, b=0임을 알고 있는 상태입니다.\n",
        "\n",
        "모델이 이 두 W와 b의 값을 제대로 찾아내도록 하는 것이 목표입니다."
      ],
      "metadata": {
        "id": "YIHrk2Vpd2pS"
      }
    },
    {
      "cell_type": "code",
      "source": [
        "# 데이터\n",
        "x_train = torch.FloatTensor([[1], [2], [3]]) # x\n",
        "y_train = torch.FloatTensor([[2], [4], [6]]) # y"
      ],
      "metadata": {
        "id": "Fy2cONLadSKj"
      },
      "execution_count": 4,
      "outputs": []
    },
    {
      "cell_type": "code",
      "source": [
        "# nn.Linear()는 입력의 차원, 출력의 차원을 인수로 받습니다.\n",
        "# 하나의 입력에 대해서 하나의 출력을 가지므로, 입력 차원과 출력 차원 모두 1을 인수로 사용하였습니다\n",
        "# 모델을 선언 및 초기화. 단순 선형 회귀이므로 input_dim=1, output_dim=1.\n",
        "model = nn.Linear(1,1)"
      ],
      "metadata": {
        "id": "dvWvSXGldSIB"
      },
      "execution_count": 5,
      "outputs": []
    },
    {
      "cell_type": "code",
      "source": [
        "# model에는 가중치 W와 편향 b가 저장되어져 있습니다. 이 값은 model.parameters()라는 함수를 사용하여 불러올 수 있는데, 한 번 출력해보겠습니다.\n",
        "#2개의 값이 출력되는데 첫번째 값이 W고, 두번째 값이 b에 해당됩니다\n",
        "# 두 값 모두 현재는 랜덤 초기화가 되어져 있습니다.\n",
        "# 그리고 두 값 모두 학습의 대상이므로 requires_grad=True가 되어져 있는 것을 볼 수 있습니다.\n",
        "\n",
        "print(list(model.parameters()))"
      ],
      "metadata": {
        "colab": {
          "base_uri": "https://localhost:8080/"
        },
        "id": "xtZbYbtYdSE6",
        "outputId": "20d56a51-7065-4b40-ae95-112f70931c0b"
      },
      "execution_count": 6,
      "outputs": [
        {
          "output_type": "stream",
          "name": "stdout",
          "text": [
            "[Parameter containing:\n",
            "tensor([[0.5153]], requires_grad=True), Parameter containing:\n",
            "tensor([-0.4414], requires_grad=True)]\n"
          ]
        }
      ]
    },
    {
      "cell_type": "code",
      "source": [
        "# 이제 옵티마이저를 정의합니다. model.parameters()를 사용하여 W와 b를 전달합니다.\n",
        "# 학습률(learning rate)은 0.01로 정합니다.\n",
        "# optimizer 설정. 경사 하강법 SGD를 사용하고 learning rate를 의미하는 lr은 0.01\n",
        "optimizer = torch.optim.SGD(model.parameters(), lr=0.01)"
      ],
      "metadata": {
        "id": "AjczdMF4dSB5"
      },
      "execution_count": 10,
      "outputs": []
    },
    {
      "cell_type": "code",
      "source": [
        "# 전체 훈련 데이터에 대해 경사 하강법을 100회 반복\n",
        "nb_epochs = 100\n",
        "for epoch in range(nb_epochs+1):\n",
        "\n",
        "    # H(x) 계산\n",
        "    prediction = model(x_train)\n",
        "\n",
        "    # cost 계산\n",
        "    cost = F.mse_loss(prediction, y_train) # <== 파이토치에서 제공하는 평균 제곱 오차 함수\n",
        "\n",
        "    # cost로 H(x) 개선하는 부분\n",
        "    # gradient를 0으로 초기화\n",
        "    optimizer.zero_grad()\n",
        "    # 비용 함수를 미분하여 gradient 계산\n",
        "    cost.backward() # backward 연산\n",
        "    # W와 b를 업데이트\n",
        "    optimizer.step()\n",
        "\n",
        "    if epoch % 100 == 0:\n",
        "    # 100번마다 로그 출력\n",
        "      print('Epoch {:4d}/{} Cost: {:.6f}'.format(\n",
        "          epoch, nb_epochs, cost.item()\n",
        "      ))"
      ],
      "metadata": {
        "colab": {
          "base_uri": "https://localhost:8080/"
        },
        "id": "LBAK_cs9dR-v",
        "outputId": "57c0f898-2777-492e-ffb3-9c63e1157949"
      },
      "execution_count": 11,
      "outputs": [
        {
          "output_type": "stream",
          "name": "stdout",
          "text": [
            "Epoch    0/100 Cost: 13.103541\n",
            "Epoch  100/100 Cost: 0.002791\n"
          ]
        }
      ]
    },
    {
      "cell_type": "code",
      "source": [
        "# Cost의 값이 매우 작습니다. W와 b의 값도 최적화가 되었는지 확인해봅시다.\n",
        "# x에 임의의 값 4를 넣어 모델이 예측하는 y의 값을 확인해보겠습니다.\n",
        "\n",
        "# 임의의 입력 4를 선언\n",
        "new_var =  torch.FloatTensor([[4.0]])\n",
        "# 입력한 값 4에 대해서 예측값 y를 리턴받아서 pred_y에 저장\n",
        "pred_y = model(new_var) # forward 연산\n",
        "# y = 2x 이므로 입력이 4라면 y가 8에 가까운 값이 나와야 제대로 학습이 된 것\n",
        "print(\"훈련 후 입력이 4일 때의 예측값 :\", pred_y)"
      ],
      "metadata": {
        "colab": {
          "base_uri": "https://localhost:8080/"
        },
        "id": "DbhoNdJSdR7l",
        "outputId": "96eaa0e6-451f-4f46-a884-dd9bbe0b5628"
      },
      "execution_count": 12,
      "outputs": [
        {
          "output_type": "stream",
          "name": "stdout",
          "text": [
            "훈련 후 입력이 4일 때의 예측값 : tensor([[7.8943]], grad_fn=<AddmmBackward0>)\n"
          ]
        }
      ]
    },
    {
      "cell_type": "code",
      "source": [
        "# 사실 이 문제의 정답은 y=2x 가 정답이므로 y값이 8에 가까우면 W와 b의 값이 어느정도 최적화가 된 것으로 볼 수 있습니다.\n",
        "# 실제로 예측된 y값은 7.8943로 8에 매우 가깝습니다."
      ],
      "metadata": {
        "id": "dBZ0lGL-dR4p"
      },
      "execution_count": null,
      "outputs": []
    },
    {
      "cell_type": "code",
      "source": [
        "# W와 b의 값을 출력해보겠습니다.\n",
        "print(list(model.parameters()))"
      ],
      "metadata": {
        "colab": {
          "base_uri": "https://localhost:8080/"
        },
        "id": "unFjupbXdR11",
        "outputId": "82492528-6213-40fe-8c0a-ae51b928c999"
      },
      "execution_count": 14,
      "outputs": [
        {
          "output_type": "stream",
          "name": "stdout",
          "text": [
            "[Parameter containing:\n",
            "tensor([[1.9388]], requires_grad=True), Parameter containing:\n",
            "tensor([0.1391], requires_grad=True)]\n"
          ]
        }
      ]
    },
    {
      "cell_type": "markdown",
      "source": [
        "W의 값이 2에 가깝고, b의 값이 0에 가까운 것을 볼 수 있습니다.\n",
        "\n",
        " H(x)식에 입력 x로부터 예측된 y를 얻는 것을 **forward** 연산이라고 합니다.\n",
        "\n",
        " 학습 전, prediction = model(x_train)은 x_train으로부터 예측값을 리턴하므로 forward 연산입니다.\n",
        "\n",
        " 학습 후, pred_y = model(new_var)는 임의의 값 new_var로부터 예측값을 리턴하므로 forward 연산입니다.\n",
        "\n",
        " 학습 과정에서 비용 함수를 미분하여 기울기를 구하는 것을 **backward** 연산이라고 합니다\n",
        "\n",
        " cost.backward()는 비용 함수로부터 기울기를 구하라는 의미이며 backward 연산입니다."
      ],
      "metadata": {
        "id": "7ZptZ1buf5sT"
      }
    },
    {
      "cell_type": "code",
      "source": [],
      "metadata": {
        "id": "aGhttesfdRzK"
      },
      "execution_count": 14,
      "outputs": []
    },
    {
      "cell_type": "code",
      "source": [],
      "metadata": {
        "id": "HqZmZ7rPdRwU"
      },
      "execution_count": null,
      "outputs": []
    },
    {
      "cell_type": "code",
      "source": [],
      "metadata": {
        "id": "QM7AGhEbdRth"
      },
      "execution_count": null,
      "outputs": []
    },
    {
      "cell_type": "code",
      "source": [],
      "metadata": {
        "id": "OwZxjL7ydRqd"
      },
      "execution_count": null,
      "outputs": []
    },
    {
      "cell_type": "code",
      "source": [],
      "metadata": {
        "id": "vZXhESMHdRkR"
      },
      "execution_count": null,
      "outputs": []
    }
  ]
}